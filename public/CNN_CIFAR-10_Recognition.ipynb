{
 "cells": [
  {
   "cell_type": "markdown",
   "metadata": {},
   "source": [
    "### Image Recognition using a Convolutional Neural Network (CNN) classification model for the CIFAR-10 dataset."
   ]
  },
  {
   "cell_type": "markdown",
   "metadata": {},
   "source": [
    "Data Source:\n",
    "http://www.cs.toronto.edu/~kriz/cifar.html\n"
   ]
  },
  {
   "cell_type": "markdown",
   "metadata": {},
   "source": [
    "I used Google Colab for this analysis. The personal computer CPUs can not handle the computation required to train a CNN model. Colab, however is equipped with GPUs that are optimised for these tasks."
   ]
  },
  {
   "cell_type": "code",
   "execution_count": 2,
   "metadata": {
    "colab": {
     "base_uri": "https://localhost:8080/"
    },
    "id": "oV_wjvpDpBwe",
    "outputId": "091d919a-7291-4793-b050-70639c52b974"
   },
   "outputs": [
    {
     "name": "stdout",
     "output_type": "stream",
     "text": [
      "Looking in indexes: https://pypi.org/simple, https://us-python.pkg.dev/colab-wheels/public/simple/\n",
      "Requirement already satisfied: tensorflow in /usr/local/lib/python3.9/dist-packages (2.12.0)\n",
      "Requirement already satisfied: numpy in /usr/local/lib/python3.9/dist-packages (1.22.4)\n",
      "Requirement already satisfied: jax>=0.3.15 in /usr/local/lib/python3.9/dist-packages (from tensorflow) (0.4.7)\n",
      "Requirement already satisfied: flatbuffers>=2.0 in /usr/local/lib/python3.9/dist-packages (from tensorflow) (23.3.3)\n",
      "Requirement already satisfied: google-pasta>=0.1.1 in /usr/local/lib/python3.9/dist-packages (from tensorflow) (0.2.0)\n",
      "Requirement already satisfied: opt-einsum>=2.3.2 in /usr/local/lib/python3.9/dist-packages (from tensorflow) (3.3.0)\n",
      "Requirement already satisfied: setuptools in /usr/local/lib/python3.9/dist-packages (from tensorflow) (67.6.1)\n",
      "Requirement already satisfied: grpcio<2.0,>=1.24.3 in /usr/local/lib/python3.9/dist-packages (from tensorflow) (1.53.0)\n",
      "Requirement already satisfied: tensorboard<2.13,>=2.12 in /usr/local/lib/python3.9/dist-packages (from tensorflow) (2.12.0)\n",
      "Requirement already satisfied: protobuf!=4.21.0,!=4.21.1,!=4.21.2,!=4.21.3,!=4.21.4,!=4.21.5,<5.0.0dev,>=3.20.3 in /usr/local/lib/python3.9/dist-packages (from tensorflow) (3.20.3)\n",
      "Requirement already satisfied: packaging in /usr/local/lib/python3.9/dist-packages (from tensorflow) (23.0)\n",
      "Requirement already satisfied: termcolor>=1.1.0 in /usr/local/lib/python3.9/dist-packages (from tensorflow) (2.2.0)\n",
      "Requirement already satisfied: astunparse>=1.6.0 in /usr/local/lib/python3.9/dist-packages (from tensorflow) (1.6.3)\n",
      "Requirement already satisfied: tensorflow-io-gcs-filesystem>=0.23.1 in /usr/local/lib/python3.9/dist-packages (from tensorflow) (0.32.0)\n",
      "Requirement already satisfied: six>=1.12.0 in /usr/local/lib/python3.9/dist-packages (from tensorflow) (1.16.0)\n",
      "Requirement already satisfied: typing-extensions>=3.6.6 in /usr/local/lib/python3.9/dist-packages (from tensorflow) (4.5.0)\n",
      "Requirement already satisfied: absl-py>=1.0.0 in /usr/local/lib/python3.9/dist-packages (from tensorflow) (1.4.0)\n",
      "Requirement already satisfied: tensorflow-estimator<2.13,>=2.12.0 in /usr/local/lib/python3.9/dist-packages (from tensorflow) (2.12.0)\n",
      "Requirement already satisfied: keras<2.13,>=2.12.0 in /usr/local/lib/python3.9/dist-packages (from tensorflow) (2.12.0)\n",
      "Requirement already satisfied: gast<=0.4.0,>=0.2.1 in /usr/local/lib/python3.9/dist-packages (from tensorflow) (0.4.0)\n",
      "Requirement already satisfied: h5py>=2.9.0 in /usr/local/lib/python3.9/dist-packages (from tensorflow) (3.8.0)\n",
      "Requirement already satisfied: libclang>=13.0.0 in /usr/local/lib/python3.9/dist-packages (from tensorflow) (16.0.0)\n",
      "Requirement already satisfied: wrapt<1.15,>=1.11.0 in /usr/local/lib/python3.9/dist-packages (from tensorflow) (1.14.1)\n",
      "Requirement already satisfied: wheel<1.0,>=0.23.0 in /usr/local/lib/python3.9/dist-packages (from astunparse>=1.6.0->tensorflow) (0.40.0)\n",
      "Requirement already satisfied: scipy>=1.7 in /usr/local/lib/python3.9/dist-packages (from jax>=0.3.15->tensorflow) (1.10.1)\n",
      "Requirement already satisfied: ml-dtypes>=0.0.3 in /usr/local/lib/python3.9/dist-packages (from jax>=0.3.15->tensorflow) (0.0.4)\n",
      "Requirement already satisfied: requests<3,>=2.21.0 in /usr/local/lib/python3.9/dist-packages (from tensorboard<2.13,>=2.12->tensorflow) (2.27.1)\n",
      "Requirement already satisfied: markdown>=2.6.8 in /usr/local/lib/python3.9/dist-packages (from tensorboard<2.13,>=2.12->tensorflow) (3.4.3)\n",
      "Requirement already satisfied: google-auth-oauthlib<0.5,>=0.4.1 in /usr/local/lib/python3.9/dist-packages (from tensorboard<2.13,>=2.12->tensorflow) (0.4.6)\n",
      "Requirement already satisfied: werkzeug>=1.0.1 in /usr/local/lib/python3.9/dist-packages (from tensorboard<2.13,>=2.12->tensorflow) (2.2.3)\n",
      "Requirement already satisfied: tensorboard-data-server<0.8.0,>=0.7.0 in /usr/local/lib/python3.9/dist-packages (from tensorboard<2.13,>=2.12->tensorflow) (0.7.0)\n",
      "Requirement already satisfied: google-auth<3,>=1.6.3 in /usr/local/lib/python3.9/dist-packages (from tensorboard<2.13,>=2.12->tensorflow) (2.17.0)\n",
      "Requirement already satisfied: tensorboard-plugin-wit>=1.6.0 in /usr/local/lib/python3.9/dist-packages (from tensorboard<2.13,>=2.12->tensorflow) (1.8.1)\n",
      "Requirement already satisfied: cachetools<6.0,>=2.0.0 in /usr/local/lib/python3.9/dist-packages (from google-auth<3,>=1.6.3->tensorboard<2.13,>=2.12->tensorflow) (5.3.0)\n",
      "Requirement already satisfied: pyasn1-modules>=0.2.1 in /usr/local/lib/python3.9/dist-packages (from google-auth<3,>=1.6.3->tensorboard<2.13,>=2.12->tensorflow) (0.2.8)\n",
      "Requirement already satisfied: rsa<5,>=3.1.4 in /usr/local/lib/python3.9/dist-packages (from google-auth<3,>=1.6.3->tensorboard<2.13,>=2.12->tensorflow) (4.9)\n",
      "Requirement already satisfied: requests-oauthlib>=0.7.0 in /usr/local/lib/python3.9/dist-packages (from google-auth-oauthlib<0.5,>=0.4.1->tensorboard<2.13,>=2.12->tensorflow) (1.3.1)\n",
      "Requirement already satisfied: importlib-metadata>=4.4 in /usr/local/lib/python3.9/dist-packages (from markdown>=2.6.8->tensorboard<2.13,>=2.12->tensorflow) (6.1.0)\n",
      "Requirement already satisfied: charset-normalizer~=2.0.0 in /usr/local/lib/python3.9/dist-packages (from requests<3,>=2.21.0->tensorboard<2.13,>=2.12->tensorflow) (2.0.12)\n",
      "Requirement already satisfied: idna<4,>=2.5 in /usr/local/lib/python3.9/dist-packages (from requests<3,>=2.21.0->tensorboard<2.13,>=2.12->tensorflow) (3.4)\n",
      "Requirement already satisfied: certifi>=2017.4.17 in /usr/local/lib/python3.9/dist-packages (from requests<3,>=2.21.0->tensorboard<2.13,>=2.12->tensorflow) (2022.12.7)\n",
      "Requirement already satisfied: urllib3<1.27,>=1.21.1 in /usr/local/lib/python3.9/dist-packages (from requests<3,>=2.21.0->tensorboard<2.13,>=2.12->tensorflow) (1.26.15)\n",
      "Requirement already satisfied: MarkupSafe>=2.1.1 in /usr/local/lib/python3.9/dist-packages (from werkzeug>=1.0.1->tensorboard<2.13,>=2.12->tensorflow) (2.1.2)\n",
      "Requirement already satisfied: zipp>=0.5 in /usr/local/lib/python3.9/dist-packages (from importlib-metadata>=4.4->markdown>=2.6.8->tensorboard<2.13,>=2.12->tensorflow) (3.15.0)\n",
      "Requirement already satisfied: pyasn1<0.5.0,>=0.4.6 in /usr/local/lib/python3.9/dist-packages (from pyasn1-modules>=0.2.1->google-auth<3,>=1.6.3->tensorboard<2.13,>=2.12->tensorflow) (0.4.8)\n",
      "Requirement already satisfied: oauthlib>=3.0.0 in /usr/local/lib/python3.9/dist-packages (from requests-oauthlib>=0.7.0->google-auth-oauthlib<0.5,>=0.4.1->tensorboard<2.13,>=2.12->tensorflow) (3.2.2)\n"
     ]
    }
   ],
   "source": [
    "# Installing the required libraries:\n",
    "\n",
    "!pip install tensorflow numpy"
   ]
  },
  {
   "cell_type": "code",
   "execution_count": 3,
   "metadata": {
    "id": "rOXKy1sipHbs"
   },
   "outputs": [],
   "source": [
    "# Importing the necessary libraries:\n",
    "\n",
    "import numpy as np\n",
    "import tensorflow as tf\n",
    "from tensorflow.keras.datasets import cifar10\n",
    "from tensorflow.keras.models import Sequential\n",
    "from tensorflow.keras.layers import Conv2D, MaxPooling2D, Dense, Flatten, Dropout, BatchNormalization\n",
    "from tensorflow.keras.optimizers import Adam\n",
    "from tensorflow.keras.utils import to_categorical\n"
   ]
  },
  {
   "cell_type": "code",
   "execution_count": 4,
   "metadata": {
    "colab": {
     "base_uri": "https://localhost:8080/"
    },
    "id": "P2wAIiIgpMhL",
    "outputId": "7f7f2a83-1b05-4010-8894-d7d787dc0ad1"
   },
   "outputs": [
    {
     "name": "stdout",
     "output_type": "stream",
     "text": [
      "Downloading data from https://www.cs.toronto.edu/~kriz/cifar-10-python.tar.gz\n",
      "170498071/170498071 [==============================] - 2s 0us/step\n"
     ]
    }
   ],
   "source": [
    "# Loading and preprocessing the CIFAR-10 dataset:\n",
    "\n",
    "# Load the CIFAR-10 dataset\n",
    "(train_images, train_labels), (test_images, test_labels) = cifar10.load_data()\n",
    "\n",
    "# Normalize the pixel values to be between 0 and 1\n",
    "train_images = train_images / 255.0\n",
    "test_images = test_images / 255.0\n",
    "\n",
    "# Convert the labels to one-hot encoded vectors\n",
    "train_labels = to_categorical(train_labels)\n",
    "test_labels = to_categorical(test_labels)\n"
   ]
  },
  {
   "cell_type": "code",
   "execution_count": 5,
   "metadata": {
    "id": "Mw0hKsVMpVpe"
   },
   "outputs": [],
   "source": [
    "# Defining the CNN model:\n",
    "\n",
    "# Create a sequential model\n",
    "model = Sequential()\n",
    "\n",
    "# Add a convolutional layer with 32 filters, a 3x3 kernel, ReLU activation, and input shape\n",
    "model.add(Conv2D(32, (3, 3), activation='relu', input_shape=(32, 32, 3)))\n",
    "model.add(BatchNormalization())\n",
    "\n",
    "# Add a convolutional layer with 32 filters, a 3x3 kernel, and ReLU activation\n",
    "model.add(Conv2D(32, (3, 3), activation='relu'))\n",
    "model.add(BatchNormalization())\n",
    "\n",
    "# Add a max-pooling layer with a 2x2 pool size and 25% dropout\n",
    "model.add(MaxPooling2D(pool_size=(2, 2)))\n",
    "model.add(Dropout(0.25))\n",
    "\n",
    "# Add a convolutional layer with 64 filters, a 3x3 kernel, and ReLU activation\n",
    "model.add(Conv2D(64, (3, 3), activation='relu'))\n",
    "model.add(BatchNormalization())\n",
    "\n",
    "# Add a convolutional layer with 64 filters, a 3x3 kernel, and ReLU activation\n",
    "model.add(Conv2D(64, (3, 3), activation='relu'))\n",
    "model.add(BatchNormalization())\n",
    "\n",
    "# Add a max-pooling layer with a 2x2 pool size and 25% dropout\n",
    "model.add(MaxPooling2D(pool_size=(2, 2)))\n",
    "model.add(Dropout(0.25))\n",
    "\n",
    "# Add a flatten layer to convert 3D feature maps to 1D feature vectors\n",
    "model.add(Flatten())\n",
    "\n",
    "# Add a dense layer with 512 units and ReLU activation\n",
    "model.add(Dense(512, activation='relu'))\n",
    "model.add(BatchNormalization())\n",
    "model.add(Dropout(0.5))\n",
    "\n",
    "# Add a dense output layer with 10 units (for 10 classes) and a softmax activation\n",
    "model.add(Dense(10, activation='softmax'))\n"
   ]
  },
  {
   "cell_type": "code",
   "execution_count": 6,
   "metadata": {
    "id": "JY5y_PK7pcDU"
   },
   "outputs": [],
   "source": [
    "# Compiling the model:\n",
    "\n",
    "model.compile(optimizer=Adam(learning_rate=0.001),\n",
    "              loss='categorical_crossentropy', metrics=['accuracy'])\n"
   ]
  },
  {
   "cell_type": "code",
   "execution_count": 7,
   "metadata": {
    "colab": {
     "base_uri": "https://localhost:8080/"
    },
    "id": "A3HG22tkpfhu",
    "outputId": "d8f58246-2b28-4c07-8de9-64f948a05522"
   },
   "outputs": [
    {
     "name": "stdout",
     "output_type": "stream",
     "text": [
      "Epoch 1/50\n",
      "704/704 [==============================] - 232s 325ms/step - loss: 1.6417 - accuracy: 0.4611 - val_loss: 1.3143 - val_accuracy: 0.5366\n",
      "Epoch 2/50\n",
      "704/704 [==============================] - 231s 329ms/step - loss: 1.0940 - accuracy: 0.6164 - val_loss: 0.9686 - val_accuracy: 0.6612\n",
      "Epoch 3/50\n",
      "704/704 [==============================] - 230s 326ms/step - loss: 0.9407 - accuracy: 0.6702 - val_loss: 0.8442 - val_accuracy: 0.7056\n",
      "Epoch 4/50\n",
      "704/704 [==============================] - 229s 326ms/step - loss: 0.8523 - accuracy: 0.6983 - val_loss: 0.7455 - val_accuracy: 0.7468\n",
      "Epoch 5/50\n",
      "704/704 [==============================] - 229s 325ms/step - loss: 0.7842 - accuracy: 0.7241 - val_loss: 0.9806 - val_accuracy: 0.6724\n",
      "Epoch 6/50\n",
      "704/704 [==============================] - 228s 324ms/step - loss: 0.7352 - accuracy: 0.7425 - val_loss: 0.8144 - val_accuracy: 0.7248\n",
      "Epoch 7/50\n",
      "704/704 [==============================] - 229s 326ms/step - loss: 0.6929 - accuracy: 0.7545 - val_loss: 0.6932 - val_accuracy: 0.7622\n",
      "Epoch 8/50\n",
      "704/704 [==============================] - 229s 325ms/step - loss: 0.6506 - accuracy: 0.7728 - val_loss: 0.6648 - val_accuracy: 0.7774\n",
      "Epoch 9/50\n",
      "704/704 [==============================] - 227s 322ms/step - loss: 0.6206 - accuracy: 0.7797 - val_loss: 0.6629 - val_accuracy: 0.7814\n",
      "Epoch 10/50\n",
      "704/704 [==============================] - 229s 325ms/step - loss: 0.5888 - accuracy: 0.7955 - val_loss: 0.6574 - val_accuracy: 0.7816\n",
      "Epoch 11/50\n",
      "704/704 [==============================] - 233s 330ms/step - loss: 0.5694 - accuracy: 0.8002 - val_loss: 0.6075 - val_accuracy: 0.7896\n",
      "Epoch 12/50\n",
      "704/704 [==============================] - 232s 330ms/step - loss: 0.5387 - accuracy: 0.8106 - val_loss: 0.7366 - val_accuracy: 0.7600\n",
      "Epoch 13/50\n",
      "704/704 [==============================] - 229s 325ms/step - loss: 0.5194 - accuracy: 0.8148 - val_loss: 0.5608 - val_accuracy: 0.8058\n",
      "Epoch 14/50\n",
      "704/704 [==============================] - 229s 325ms/step - loss: 0.4981 - accuracy: 0.8230 - val_loss: 0.6146 - val_accuracy: 0.7988\n",
      "Epoch 15/50\n",
      "704/704 [==============================] - 235s 333ms/step - loss: 0.4788 - accuracy: 0.8319 - val_loss: 0.5981 - val_accuracy: 0.8038\n",
      "Epoch 16/50\n",
      "704/704 [==============================] - 218s 310ms/step - loss: 0.4869 - accuracy: 0.8281 - val_loss: 0.5852 - val_accuracy: 0.8046\n",
      "Epoch 17/50\n",
      "704/704 [==============================] - 214s 304ms/step - loss: 0.4494 - accuracy: 0.8408 - val_loss: 0.5694 - val_accuracy: 0.8100\n",
      "Epoch 18/50\n",
      "704/704 [==============================] - 219s 311ms/step - loss: 0.4294 - accuracy: 0.8476 - val_loss: 0.5772 - val_accuracy: 0.8164\n",
      "Epoch 19/50\n",
      "704/704 [==============================] - 218s 310ms/step - loss: 0.4266 - accuracy: 0.8482 - val_loss: 0.5390 - val_accuracy: 0.8196\n",
      "Epoch 20/50\n",
      "704/704 [==============================] - 221s 314ms/step - loss: 0.4066 - accuracy: 0.8562 - val_loss: 0.5874 - val_accuracy: 0.8156\n",
      "Epoch 21/50\n",
      "704/704 [==============================] - 219s 311ms/step - loss: 0.3960 - accuracy: 0.8608 - val_loss: 0.5614 - val_accuracy: 0.8168\n",
      "Epoch 22/50\n",
      "704/704 [==============================] - 219s 311ms/step - loss: 0.3805 - accuracy: 0.8650 - val_loss: 0.6113 - val_accuracy: 0.8060\n",
      "Epoch 23/50\n",
      "704/704 [==============================] - 218s 309ms/step - loss: 0.3701 - accuracy: 0.8686 - val_loss: 0.5488 - val_accuracy: 0.8204\n",
      "Epoch 24/50\n",
      "704/704 [==============================] - 219s 311ms/step - loss: 0.3663 - accuracy: 0.8702 - val_loss: 0.5499 - val_accuracy: 0.8246\n",
      "Epoch 25/50\n",
      "704/704 [==============================] - 219s 311ms/step - loss: 0.3662 - accuracy: 0.8703 - val_loss: 0.5357 - val_accuracy: 0.8278\n",
      "Epoch 26/50\n",
      "704/704 [==============================] - 214s 305ms/step - loss: 0.3467 - accuracy: 0.8756 - val_loss: 0.6149 - val_accuracy: 0.8086\n",
      "Epoch 27/50\n",
      "704/704 [==============================] - 215s 305ms/step - loss: 0.3385 - accuracy: 0.8808 - val_loss: 0.5620 - val_accuracy: 0.8270\n",
      "Epoch 28/50\n",
      "704/704 [==============================] - 213s 302ms/step - loss: 0.3321 - accuracy: 0.8797 - val_loss: 0.5639 - val_accuracy: 0.8228\n",
      "Epoch 29/50\n",
      "704/704 [==============================] - 214s 305ms/step - loss: 0.3566 - accuracy: 0.8747 - val_loss: 0.5773 - val_accuracy: 0.8194\n",
      "Epoch 30/50\n",
      "704/704 [==============================] - 220s 312ms/step - loss: 0.3170 - accuracy: 0.8872 - val_loss: 0.5465 - val_accuracy: 0.8312\n",
      "Epoch 31/50\n",
      "704/704 [==============================] - 215s 305ms/step - loss: 0.3179 - accuracy: 0.8875 - val_loss: 0.5936 - val_accuracy: 0.8140\n",
      "Epoch 32/50\n",
      "704/704 [==============================] - 215s 306ms/step - loss: 0.2927 - accuracy: 0.8948 - val_loss: 0.6689 - val_accuracy: 0.7990\n",
      "Epoch 33/50\n",
      "704/704 [==============================] - 215s 305ms/step - loss: 0.2944 - accuracy: 0.8960 - val_loss: 0.5582 - val_accuracy: 0.8286\n",
      "Epoch 34/50\n",
      "704/704 [==============================] - 215s 305ms/step - loss: 0.2876 - accuracy: 0.8966 - val_loss: 0.6030 - val_accuracy: 0.8128\n",
      "Epoch 35/50\n",
      "704/704 [==============================] - 215s 305ms/step - loss: 0.2969 - accuracy: 0.8943 - val_loss: 0.5938 - val_accuracy: 0.8236\n",
      "Epoch 36/50\n",
      "704/704 [==============================] - 214s 304ms/step - loss: 0.2830 - accuracy: 0.8996 - val_loss: 0.5505 - val_accuracy: 0.8292\n",
      "Epoch 37/50\n",
      "704/704 [==============================] - 216s 306ms/step - loss: 0.2807 - accuracy: 0.9001 - val_loss: 0.6019 - val_accuracy: 0.8182\n",
      "Epoch 38/50\n",
      "704/704 [==============================] - 219s 311ms/step - loss: 0.2829 - accuracy: 0.8998 - val_loss: 0.5535 - val_accuracy: 0.8318\n",
      "Epoch 39/50\n",
      "704/704 [==============================] - 218s 310ms/step - loss: 0.2683 - accuracy: 0.9056 - val_loss: 0.5508 - val_accuracy: 0.8274\n",
      "Epoch 40/50\n",
      "704/704 [==============================] - 215s 305ms/step - loss: 0.2634 - accuracy: 0.9064 - val_loss: 0.5722 - val_accuracy: 0.8324\n",
      "Epoch 41/50\n",
      "704/704 [==============================] - 212s 301ms/step - loss: 0.2601 - accuracy: 0.9079 - val_loss: 0.5782 - val_accuracy: 0.8314\n",
      "Epoch 42/50\n",
      "704/704 [==============================] - 215s 305ms/step - loss: 0.2645 - accuracy: 0.9059 - val_loss: 0.5496 - val_accuracy: 0.8322\n",
      "Epoch 43/50\n",
      "704/704 [==============================] - 220s 312ms/step - loss: 0.2517 - accuracy: 0.9091 - val_loss: 0.5588 - val_accuracy: 0.8346\n",
      "Epoch 44/50\n",
      "704/704 [==============================] - 218s 310ms/step - loss: 0.2484 - accuracy: 0.9128 - val_loss: 0.5709 - val_accuracy: 0.8330\n",
      "Epoch 45/50\n",
      "704/704 [==============================] - 219s 311ms/step - loss: 0.2481 - accuracy: 0.9112 - val_loss: 0.6029 - val_accuracy: 0.8256\n",
      "Epoch 46/50\n",
      "704/704 [==============================] - 223s 317ms/step - loss: 0.2444 - accuracy: 0.9118 - val_loss: 0.5635 - val_accuracy: 0.8332\n",
      "Epoch 47/50\n",
      "704/704 [==============================] - 219s 311ms/step - loss: 0.2420 - accuracy: 0.9137 - val_loss: 0.5561 - val_accuracy: 0.8374\n",
      "Epoch 48/50\n",
      "704/704 [==============================] - 215s 305ms/step - loss: 0.2394 - accuracy: 0.9140 - val_loss: 0.5895 - val_accuracy: 0.8320\n",
      "Epoch 49/50\n",
      "704/704 [==============================] - 214s 305ms/step - loss: 0.2326 - accuracy: 0.9180 - val_loss: 0.5949 - val_accuracy: 0.8326\n",
      "Epoch 50/50\n",
      "704/704 [==============================] - 213s 303ms/step - loss: 0.2306 - accuracy: 0.9188 - val_loss: 0.5708 - val_accuracy: 0.8384\n"
     ]
    },
    {
     "data": {
      "text/plain": [
       "<keras.callbacks.History at 0x7fc77212cc40>"
      ]
     },
     "execution_count": 7,
     "metadata": {},
     "output_type": "execute_result"
    }
   ],
   "source": [
    "# Training the model:\n",
    "\n",
    "model.fit(train_images, train_labels, epochs=50,\n",
    "          batch_size=64, validation_split=0.1)\n"
   ]
  },
  {
   "cell_type": "code",
   "execution_count": 8,
   "metadata": {
    "colab": {
     "base_uri": "https://localhost:8080/"
    },
    "id": "N1JniOnAfjQl",
    "outputId": "5f57199b-a257-4a5a-c2ba-e3dca88c484b"
   },
   "outputs": [
    {
     "name": "stdout",
     "output_type": "stream",
     "text": [
      "313/313 [==============================] - 12s 39ms/step - loss: 0.5983 - accuracy: 0.8246\n",
      "Test accuracy: 0.8246\n"
     ]
    }
   ],
   "source": [
    "# Evaluating the model:\n",
    "# We evaluate the model on the test dataset and print the test accuracy.\n",
    "\n",
    "\n",
    "test_loss, test_accuracy = model.evaluate(test_images, test_labels)\n",
    "print(f'Test accuracy: {test_accuracy:.4f}')"
   ]
  },
  {
   "cell_type": "markdown",
   "metadata": {
    "id": "CwOuQpQyiea7"
   },
   "source": [
    "This CNN-based classification model for the CIFAR-10 dataset achieves a test accuracy of 82%, which can be further improved by adding more layers, using data augmentation, adjusting the hyperparameters (like epoch number of 100), or employing more advanced architectures like Residual Networks (ResNet)."
   ]
  },
  {
   "cell_type": "code",
   "execution_count": null,
   "metadata": {
    "id": "SL_4AX5Iixjh"
   },
   "outputs": [],
   "source": []
  }
 ],
 "metadata": {
  "colab": {
   "provenance": []
  },
  "kernelspec": {
   "display_name": "Python 3",
   "language": "python",
   "name": "python3"
  },
  "language_info": {
   "codemirror_mode": {
    "name": "ipython",
    "version": 3
   },
   "file_extension": ".py",
   "mimetype": "text/x-python",
   "name": "python",
   "nbconvert_exporter": "python",
   "pygments_lexer": "ipython3",
   "version": "3.8.8"
  }
 },
 "nbformat": 4,
 "nbformat_minor": 1
}
